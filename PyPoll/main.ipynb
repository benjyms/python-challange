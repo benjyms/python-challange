{
 "cells": [
  {
   "cell_type": "code",
   "execution_count": 536,
   "source": [
    "# Import Pandas Library\r\n",
    "import pandas as pd"
   ],
   "outputs": [],
   "metadata": {}
  },
  {
   "cell_type": "code",
   "execution_count": 537,
   "source": [
    "# Read the csv data\r\n",
    "csvpath = r\"C:\\Users\\benjy\\Documents\\Bootcamp Repos\\python-challange\\PyPoll\\Resources\\PyPoll\\Resources\\election_data.csv\"\r\n"
   ],
   "outputs": [],
   "metadata": {}
  },
  {
   "cell_type": "code",
   "execution_count": 538,
   "source": [
    "# create a dataframe to hold and analyze data\r\n",
    "ed_df = pd.read_csv(csvpath)\r\n",
    "ed_df.head()"
   ],
   "outputs": [
    {
     "output_type": "execute_result",
     "data": {
      "text/plain": [
       "   Voter ID County Candidate\n",
       "0  12864552  Marsh      Khan\n",
       "1  17444633  Marsh    Correy\n",
       "2  19330107  Marsh      Khan\n",
       "3  19865775  Queen      Khan\n",
       "4  11927875  Marsh      Khan"
      ],
      "text/html": [
       "<div>\n",
       "<style scoped>\n",
       "    .dataframe tbody tr th:only-of-type {\n",
       "        vertical-align: middle;\n",
       "    }\n",
       "\n",
       "    .dataframe tbody tr th {\n",
       "        vertical-align: top;\n",
       "    }\n",
       "\n",
       "    .dataframe thead th {\n",
       "        text-align: right;\n",
       "    }\n",
       "</style>\n",
       "<table border=\"1\" class=\"dataframe\">\n",
       "  <thead>\n",
       "    <tr style=\"text-align: right;\">\n",
       "      <th></th>\n",
       "      <th>Voter ID</th>\n",
       "      <th>County</th>\n",
       "      <th>Candidate</th>\n",
       "    </tr>\n",
       "  </thead>\n",
       "  <tbody>\n",
       "    <tr>\n",
       "      <th>0</th>\n",
       "      <td>12864552</td>\n",
       "      <td>Marsh</td>\n",
       "      <td>Khan</td>\n",
       "    </tr>\n",
       "    <tr>\n",
       "      <th>1</th>\n",
       "      <td>17444633</td>\n",
       "      <td>Marsh</td>\n",
       "      <td>Correy</td>\n",
       "    </tr>\n",
       "    <tr>\n",
       "      <th>2</th>\n",
       "      <td>19330107</td>\n",
       "      <td>Marsh</td>\n",
       "      <td>Khan</td>\n",
       "    </tr>\n",
       "    <tr>\n",
       "      <th>3</th>\n",
       "      <td>19865775</td>\n",
       "      <td>Queen</td>\n",
       "      <td>Khan</td>\n",
       "    </tr>\n",
       "    <tr>\n",
       "      <th>4</th>\n",
       "      <td>11927875</td>\n",
       "      <td>Marsh</td>\n",
       "      <td>Khan</td>\n",
       "    </tr>\n",
       "  </tbody>\n",
       "</table>\n",
       "</div>"
      ]
     },
     "metadata": {},
     "execution_count": 538
    }
   ],
   "metadata": {}
  },
  {
   "cell_type": "code",
   "execution_count": 539,
   "source": [
    "# Check to see if there are rows missing data\r\n",
    "ed_df.count()"
   ],
   "outputs": [
    {
     "output_type": "execute_result",
     "data": {
      "text/plain": [
       "Voter ID     3521001\n",
       "County       3521001\n",
       "Candidate    3521001\n",
       "dtype: int64"
      ]
     },
     "metadata": {},
     "execution_count": 539
    }
   ],
   "metadata": {}
  },
  {
   "cell_type": "code",
   "execution_count": 540,
   "source": [
    "\r\n",
    "# create the data frame for by candidate\r\n",
    "columns = [\r\n",
    "    \"Candidate\", \r\n",
    "    \"Voter ID\",\r\n",
    "    \"County\"\r\n",
    "]\r\n",
    "\r\n",
    "candidate_counts = ed_df[\"Candidate\"].value_counts()\r\n",
    "candidate_counts"
   ],
   "outputs": [
    {
     "output_type": "execute_result",
     "data": {
      "text/plain": [
       "Khan        2218231\n",
       "Correy       704200\n",
       "Li           492940\n",
       "O'Tooley     105630\n",
       "Name: Candidate, dtype: int64"
      ]
     },
     "metadata": {},
     "execution_count": 540
    }
   ],
   "metadata": {}
  },
  {
   "cell_type": "code",
   "execution_count": 541,
   "source": [
    "# Convert the Candidate_Counts Series into a DataFrame\r\n",
    "candidate_counts_df = pd.DataFrame(candidate_counts)\r\n",
    "candidate_counts_df.head()\r\n"
   ],
   "outputs": [
    {
     "output_type": "execute_result",
     "data": {
      "text/plain": [
       "          Candidate\n",
       "Khan        2218231\n",
       "Correy       704200\n",
       "Li           492940\n",
       "O'Tooley     105630"
      ],
      "text/html": [
       "<div>\n",
       "<style scoped>\n",
       "    .dataframe tbody tr th:only-of-type {\n",
       "        vertical-align: middle;\n",
       "    }\n",
       "\n",
       "    .dataframe tbody tr th {\n",
       "        vertical-align: top;\n",
       "    }\n",
       "\n",
       "    .dataframe thead th {\n",
       "        text-align: right;\n",
       "    }\n",
       "</style>\n",
       "<table border=\"1\" class=\"dataframe\">\n",
       "  <thead>\n",
       "    <tr style=\"text-align: right;\">\n",
       "      <th></th>\n",
       "      <th>Candidate</th>\n",
       "    </tr>\n",
       "  </thead>\n",
       "  <tbody>\n",
       "    <tr>\n",
       "      <th>Khan</th>\n",
       "      <td>2218231</td>\n",
       "    </tr>\n",
       "    <tr>\n",
       "      <th>Correy</th>\n",
       "      <td>704200</td>\n",
       "    </tr>\n",
       "    <tr>\n",
       "      <th>Li</th>\n",
       "      <td>492940</td>\n",
       "    </tr>\n",
       "    <tr>\n",
       "      <th>O'Tooley</th>\n",
       "      <td>105630</td>\n",
       "    </tr>\n",
       "  </tbody>\n",
       "</table>\n",
       "</div>"
      ]
     },
     "metadata": {},
     "execution_count": 541
    }
   ],
   "metadata": {}
  },
  {
   "cell_type": "code",
   "execution_count": 542,
   "source": [
    "# Convert the column name into \"Total Votes Won\"\r\n",
    "candidate_counts_df = candidate_counts_df.rename(\r\n",
    "    columns={\"Candidate\": \"Total Votes Won\"})   \r\n",
    "candidate_counts_df[\"Total Votes Won\"] = candidate_counts_df[\"Total Votes Won\"].map(\"({:.0f})\".format)\r\n",
    "candidate_counts_df.head()\r\n",
    "candidate_counts_df.reset_index(inplace=True)\r\n",
    "candidate_counts_df.head()"
   ],
   "outputs": [
    {
     "output_type": "execute_result",
     "data": {
      "text/plain": [
       "      index Total Votes Won\n",
       "0      Khan       (2218231)\n",
       "1    Correy        (704200)\n",
       "2        Li        (492940)\n",
       "3  O'Tooley        (105630)"
      ],
      "text/html": [
       "<div>\n",
       "<style scoped>\n",
       "    .dataframe tbody tr th:only-of-type {\n",
       "        vertical-align: middle;\n",
       "    }\n",
       "\n",
       "    .dataframe tbody tr th {\n",
       "        vertical-align: top;\n",
       "    }\n",
       "\n",
       "    .dataframe thead th {\n",
       "        text-align: right;\n",
       "    }\n",
       "</style>\n",
       "<table border=\"1\" class=\"dataframe\">\n",
       "  <thead>\n",
       "    <tr style=\"text-align: right;\">\n",
       "      <th></th>\n",
       "      <th>index</th>\n",
       "      <th>Total Votes Won</th>\n",
       "    </tr>\n",
       "  </thead>\n",
       "  <tbody>\n",
       "    <tr>\n",
       "      <th>0</th>\n",
       "      <td>Khan</td>\n",
       "      <td>(2218231)</td>\n",
       "    </tr>\n",
       "    <tr>\n",
       "      <th>1</th>\n",
       "      <td>Correy</td>\n",
       "      <td>(704200)</td>\n",
       "    </tr>\n",
       "    <tr>\n",
       "      <th>2</th>\n",
       "      <td>Li</td>\n",
       "      <td>(492940)</td>\n",
       "    </tr>\n",
       "    <tr>\n",
       "      <th>3</th>\n",
       "      <td>O'Tooley</td>\n",
       "      <td>(105630)</td>\n",
       "    </tr>\n",
       "  </tbody>\n",
       "</table>\n",
       "</div>"
      ]
     },
     "metadata": {},
     "execution_count": 542
    }
   ],
   "metadata": {}
  },
  {
   "cell_type": "code",
   "execution_count": 543,
   "source": [
    "#Count Total Votes\r\n",
    "totalv_count = ed_df['Voter ID'].count()\r\n",
    "totalv_count"
   ],
   "outputs": [
    {
     "output_type": "execute_result",
     "data": {
      "text/plain": [
       "3521001"
      ]
     },
     "metadata": {},
     "execution_count": 543
    }
   ],
   "metadata": {}
  },
  {
   "cell_type": "code",
   "execution_count": 544,
   "source": [
    "# Convert the Candidate_Counts / total votes Series into a DataFrame\r\n",
    "candidate_per_df = round(pd.DataFrame(candidate_counts) / totalv_count * 100,2)\r\n",
    "candidate_per_df = candidate_per_df.rename(\r\n",
    "    columns={\"Candidate\": \"Percent Votes Won\"})\r\n",
    "candidate_per_df.head()\r\n",
    "candidate_per_df[\"Percent Votes Won\"] = candidate_per_df[\"Percent Votes Won\"].map(\"{:.3f}%\".format)\r\n",
    "candidate_per_df.reset_index(inplace=True)\r\n",
    "candidate_per_df.head()"
   ],
   "outputs": [
    {
     "output_type": "execute_result",
     "data": {
      "text/plain": [
       "      index Percent Votes Won\n",
       "0      Khan           63.000%\n",
       "1    Correy           20.000%\n",
       "2        Li           14.000%\n",
       "3  O'Tooley            3.000%"
      ],
      "text/html": [
       "<div>\n",
       "<style scoped>\n",
       "    .dataframe tbody tr th:only-of-type {\n",
       "        vertical-align: middle;\n",
       "    }\n",
       "\n",
       "    .dataframe tbody tr th {\n",
       "        vertical-align: top;\n",
       "    }\n",
       "\n",
       "    .dataframe thead th {\n",
       "        text-align: right;\n",
       "    }\n",
       "</style>\n",
       "<table border=\"1\" class=\"dataframe\">\n",
       "  <thead>\n",
       "    <tr style=\"text-align: right;\">\n",
       "      <th></th>\n",
       "      <th>index</th>\n",
       "      <th>Percent Votes Won</th>\n",
       "    </tr>\n",
       "  </thead>\n",
       "  <tbody>\n",
       "    <tr>\n",
       "      <th>0</th>\n",
       "      <td>Khan</td>\n",
       "      <td>63.000%</td>\n",
       "    </tr>\n",
       "    <tr>\n",
       "      <th>1</th>\n",
       "      <td>Correy</td>\n",
       "      <td>20.000%</td>\n",
       "    </tr>\n",
       "    <tr>\n",
       "      <th>2</th>\n",
       "      <td>Li</td>\n",
       "      <td>14.000%</td>\n",
       "    </tr>\n",
       "    <tr>\n",
       "      <th>3</th>\n",
       "      <td>O'Tooley</td>\n",
       "      <td>3.000%</td>\n",
       "    </tr>\n",
       "  </tbody>\n",
       "</table>\n",
       "</div>"
      ]
     },
     "metadata": {},
     "execution_count": 544
    }
   ],
   "metadata": {}
  },
  {
   "cell_type": "code",
   "execution_count": 545,
   "source": [
    "# Right Merge Candidate_Count_DF with Candidate_per_df on index\r\n",
    "merge_vt_df = pd.merge(candidate_per_df, candidate_counts_df, on=\"index\", how=\"right\")\r\n",
    "merge_vt_df = merge_vt_df.rename(\r\n",
    "    columns={\"index\": \"Candidate\"})\r\n",
    "merge_vt_df.head()"
   ],
   "outputs": [
    {
     "output_type": "execute_result",
     "data": {
      "text/plain": [
       "  Candidate Percent Votes Won Total Votes Won\n",
       "0      Khan           63.000%       (2218231)\n",
       "1    Correy           20.000%        (704200)\n",
       "2        Li           14.000%        (492940)\n",
       "3  O'Tooley            3.000%        (105630)"
      ],
      "text/html": [
       "<div>\n",
       "<style scoped>\n",
       "    .dataframe tbody tr th:only-of-type {\n",
       "        vertical-align: middle;\n",
       "    }\n",
       "\n",
       "    .dataframe tbody tr th {\n",
       "        vertical-align: top;\n",
       "    }\n",
       "\n",
       "    .dataframe thead th {\n",
       "        text-align: right;\n",
       "    }\n",
       "</style>\n",
       "<table border=\"1\" class=\"dataframe\">\n",
       "  <thead>\n",
       "    <tr style=\"text-align: right;\">\n",
       "      <th></th>\n",
       "      <th>Candidate</th>\n",
       "      <th>Percent Votes Won</th>\n",
       "      <th>Total Votes Won</th>\n",
       "    </tr>\n",
       "  </thead>\n",
       "  <tbody>\n",
       "    <tr>\n",
       "      <th>0</th>\n",
       "      <td>Khan</td>\n",
       "      <td>63.000%</td>\n",
       "      <td>(2218231)</td>\n",
       "    </tr>\n",
       "    <tr>\n",
       "      <th>1</th>\n",
       "      <td>Correy</td>\n",
       "      <td>20.000%</td>\n",
       "      <td>(704200)</td>\n",
       "    </tr>\n",
       "    <tr>\n",
       "      <th>2</th>\n",
       "      <td>Li</td>\n",
       "      <td>14.000%</td>\n",
       "      <td>(492940)</td>\n",
       "    </tr>\n",
       "    <tr>\n",
       "      <th>3</th>\n",
       "      <td>O'Tooley</td>\n",
       "      <td>3.000%</td>\n",
       "      <td>(105630)</td>\n",
       "    </tr>\n",
       "  </tbody>\n",
       "</table>\n",
       "</div>"
      ]
     },
     "metadata": {},
     "execution_count": 545
    }
   ],
   "metadata": {}
  },
  {
   "cell_type": "code",
   "execution_count": 546,
   "source": [
    "# unique count by candidates\r\n",
    "# candidate_vote = pd.DataFrame(ed_df[\"Candidate\"].value_counts())\r\n",
    "# candidate_vote\r\n",
    "\r\n",
    "\r\n",
    "# use group by to create the percent of vote won and total votes\r\n",
    "grouped_ed_df = ed_df.groupby(['Candidate'])\r\n",
    "grouped_ed_df.count()\r\n",
    "working_df = grouped_ed_df.count()\r\n",
    "working_df.count\r\n",
    "# working_df.sort_values(\"Voter Id\")\r\n",
    "\r\n",
    "\r\n",
    "\r\n",
    "# grouped_ed_df.head(10)"
   ],
   "outputs": [
    {
     "output_type": "execute_result",
     "data": {
      "text/plain": [
       "<bound method DataFrame.count of            Voter ID   County\n",
       "Candidate                   \n",
       "Correy       704200   704200\n",
       "Khan        2218231  2218231\n",
       "Li           492940   492940\n",
       "O'Tooley     105630   105630>"
      ]
     },
     "metadata": {},
     "execution_count": 546
    }
   ],
   "metadata": {}
  },
  {
   "cell_type": "code",
   "execution_count": 547,
   "source": [
    "#create data set that totals the votes for each candidate\r\n",
    "vote_count = ed_df[\"Candidate\"].value_counts()\r\n",
    "vote_count_df = pd.DataFrame(ed_df[\"Candidate\"].value_counts())\r\n",
    "vote_count_df.columns"
   ],
   "outputs": [
    {
     "output_type": "execute_result",
     "data": {
      "text/plain": [
       "Index(['Candidate'], dtype='object')"
      ]
     },
     "metadata": {},
     "execution_count": 547
    }
   ],
   "metadata": {}
  },
  {
   "cell_type": "code",
   "execution_count": 548,
   "source": [
    "# Create Election Analysis Summary\r\n",
    "EA = (\"Election Results\")\r\n",
    "dash = (\"--------------------------------\")\r\n",
    "TV =  (\"Total Votes: \" + str(totalv_count))\r\n",
    "dash2 = (\"--------------------------------\")\r\n",
    "candidate1 = str(merge_vt_df.iloc[0,0] + \": \" + merge_vt_df.iloc[0,1] + \" \" + merge_vt_df.iloc[0,2])\r\n",
    "candidate2 = str(merge_vt_df.iloc[1,0] + \": \" + merge_vt_df.iloc[1,1] + \" \" + merge_vt_df.iloc[1,2])\r\n",
    "candidate3 = str(merge_vt_df.iloc[2,0] + \": \" + merge_vt_df.iloc[2,1] + \" \" + merge_vt_df.iloc[2,2])\r\n",
    "candidate4 = str(merge_vt_df.iloc[3,0] + \": \" + merge_vt_df.iloc[3,1] + \" \" + merge_vt_df.iloc[3,2])\r\n",
    "dash3 = (\"--------------------------------\")\r\n",
    "winner = str(\"Winner: \" + merge_vt_df.iloc[0,0])\r\n",
    "dash4 = (\"--------------------------------\")\r\n",
    "\r\n",
    "er_df = pd.DataFrame({\"Election Results\": [dash, TV, dash2, \r\n",
    "candidate1, candidate2, candidate3, candidate4, dash3, winner, dash4],})\r\n",
    "\r\n",
    "er_df\r\n",
    "\r\n",
    "\r\n",
    "\r\n",
    "\r\n"
   ],
   "outputs": [
    {
     "output_type": "execute_result",
     "data": {
      "text/plain": [
       "                   Election Results\n",
       "0  --------------------------------\n",
       "1              Total Votes: 3521001\n",
       "2  --------------------------------\n",
       "3           Khan: 63.000% (2218231)\n",
       "4          Correy: 20.000% (704200)\n",
       "5              Li: 14.000% (492940)\n",
       "6         O'Tooley: 3.000% (105630)\n",
       "7  --------------------------------\n",
       "8                      Winner: Khan\n",
       "9  --------------------------------"
      ],
      "text/html": [
       "<div>\n",
       "<style scoped>\n",
       "    .dataframe tbody tr th:only-of-type {\n",
       "        vertical-align: middle;\n",
       "    }\n",
       "\n",
       "    .dataframe tbody tr th {\n",
       "        vertical-align: top;\n",
       "    }\n",
       "\n",
       "    .dataframe thead th {\n",
       "        text-align: right;\n",
       "    }\n",
       "</style>\n",
       "<table border=\"1\" class=\"dataframe\">\n",
       "  <thead>\n",
       "    <tr style=\"text-align: right;\">\n",
       "      <th></th>\n",
       "      <th>Election Results</th>\n",
       "    </tr>\n",
       "  </thead>\n",
       "  <tbody>\n",
       "    <tr>\n",
       "      <th>0</th>\n",
       "      <td>--------------------------------</td>\n",
       "    </tr>\n",
       "    <tr>\n",
       "      <th>1</th>\n",
       "      <td>Total Votes: 3521001</td>\n",
       "    </tr>\n",
       "    <tr>\n",
       "      <th>2</th>\n",
       "      <td>--------------------------------</td>\n",
       "    </tr>\n",
       "    <tr>\n",
       "      <th>3</th>\n",
       "      <td>Khan: 63.000% (2218231)</td>\n",
       "    </tr>\n",
       "    <tr>\n",
       "      <th>4</th>\n",
       "      <td>Correy: 20.000% (704200)</td>\n",
       "    </tr>\n",
       "    <tr>\n",
       "      <th>5</th>\n",
       "      <td>Li: 14.000% (492940)</td>\n",
       "    </tr>\n",
       "    <tr>\n",
       "      <th>6</th>\n",
       "      <td>O'Tooley: 3.000% (105630)</td>\n",
       "    </tr>\n",
       "    <tr>\n",
       "      <th>7</th>\n",
       "      <td>--------------------------------</td>\n",
       "    </tr>\n",
       "    <tr>\n",
       "      <th>8</th>\n",
       "      <td>Winner: Khan</td>\n",
       "    </tr>\n",
       "    <tr>\n",
       "      <th>9</th>\n",
       "      <td>--------------------------------</td>\n",
       "    </tr>\n",
       "  </tbody>\n",
       "</table>\n",
       "</div>"
      ]
     },
     "metadata": {},
     "execution_count": 548
    }
   ],
   "metadata": {}
  },
  {
   "cell_type": "code",
   "execution_count": 550,
   "source": [
    "# Export a text file that contains the Election Results Text File\r\n",
    "er_df.to_csv(\"Analysis/Election_Results.txt\", index=False, header=True)"
   ],
   "outputs": [],
   "metadata": {}
  }
 ],
 "metadata": {
  "orig_nbformat": 4,
  "language_info": {
   "name": "python",
   "version": "3.8.8",
   "mimetype": "text/x-python",
   "codemirror_mode": {
    "name": "ipython",
    "version": 3
   },
   "pygments_lexer": "ipython3",
   "nbconvert_exporter": "python",
   "file_extension": ".py"
  },
  "kernelspec": {
   "name": "python3",
   "display_name": "Python 3.8.8 64-bit ('base': conda)"
  },
  "interpreter": {
   "hash": "bce03e0203ca6d29490e03d392228e90828a57ede4d3c15fe8f3c680f7829612"
  }
 },
 "nbformat": 4,
 "nbformat_minor": 2
}