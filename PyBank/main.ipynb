{
 "cells": [
  {
   "cell_type": "code",
   "execution_count": 250,
   "source": [
    "# import pandas libray\r\n",
    "import pandas as pd\r\n"
   ],
   "outputs": [],
   "metadata": {}
  },
  {
   "cell_type": "code",
   "execution_count": 251,
   "source": [
    "# reac csv data and create in a dataframe\r\n",
    "csvpath = r\"Resources\\budget_data.csv\"\r\n",
    "bd_df = pd.read_csv(csvpath)\r\n",
    "\r\n"
   ],
   "outputs": [],
   "metadata": {}
  },
  {
   "cell_type": "code",
   "execution_count": 252,
   "source": [
    "# Create a Variable to hold count of months and create the test print statement for the analysis summary\r\n",
    "month_count = bd_df['Date'].count()\r\n",
    "\r\n",
    "\r\n"
   ],
   "outputs": [],
   "metadata": {}
  },
  {
   "cell_type": "code",
   "execution_count": 253,
   "source": [
    "# Create Variable to hold total of Profit/Losses and create the test print statement for the anlysis summary\r\n",
    "total_pl = bd_df[\"Profit/Losses\"].sum()\r\n",
    "\r\n"
   ],
   "outputs": [],
   "metadata": {}
  },
  {
   "cell_type": "code",
   "execution_count": 254,
   "source": [
    "# Create a new column in the data frame to capture the change from the previous row to the next fow\r\n",
    "bd_df[\"P&L Difference\"] = bd_df[\"Profit/Losses\"].diff()\r\n",
    "\r\n",
    "\r\n",
    "# #create a new variable to hold the average/mean of all changes\r\n",
    "plchg_mean = round(bd_df[\"P&L Difference\"].mean(),2)\r\n",
    "\r\n"
   ],
   "outputs": [],
   "metadata": {}
  },
  {
   "cell_type": "code",
   "execution_count": 255,
   "source": [
    "# Determine the month with the greatest increase in profits and greatest decrease in profits\r\n",
    "# Sort the dataframe by P&L Differnce smallest to largest\r\n",
    "bd_dec_df = bd_df.sort_values(\"P&L Difference\")\r\n",
    "\r\n",
    "\r\n",
    "bd_dec_df['P&L Difference'] = bd_dec_df['P&L Difference'].fillna(0)\r\n",
    "bd_dec_df['P&L Difference'] = bd_dec_df['P&L Difference'].astype(int)\r\n",
    "# bd_dec_df.head\r\n",
    "\r\n",
    "# # #reset index for the dataframe\r\n",
    "bd_dec_df = bd_dec_df.reset_index(drop=True)\r\n",
    "# bd_dec_df.head()\r\n",
    "\r\n",
    "\r\n",
    "\r\n",
    "# # # # #capture date and largetest decrease\r\n",
    "greatest_decrease_date = bd_dec_df.iloc[0,0]\r\n",
    "greatest_decrease_amount = bd_dec_df.iloc[0,2]\r\n",
    "print(greatest_decrease_date)\r\n",
    "print(greatest_decrease_amount)\r\n",
    "print(\"Greatest Decrease in Profits: \" + greatest_decrease_date + \" \" + \"($\" + str(greatest_decrease_amount) + \")\")\r\n",
    "\r\n"
   ],
   "outputs": [
    {
     "output_type": "stream",
     "name": "stdout",
     "text": [
      "Sep-2013\n",
      "-2196167\n",
      "Greatest Decrease in Profits: Sep-2013 ($-2196167)\n"
     ]
    }
   ],
   "metadata": {}
  },
  {
   "cell_type": "code",
   "execution_count": 256,
   "source": [
    "# # ascending sort\r\n",
    "# # Determine the month with the greatest increase in profits and greatest decrease in profits\r\n",
    "# Sort the dataframe by P&L Differnce smallest to largest\r\n",
    "bd_asc_df = bd_dec_df.sort_values(\"P&L Difference\", ascending=False)\r\n",
    "\r\n",
    "\r\n",
    "# # # #reset index for the dataframe\r\n",
    "bd_asc_df = bd_asc_df.reset_index(drop=True)\r\n",
    "# bd_asc_df.head()\r\n",
    "\r\n",
    "\r\n",
    "# # # # #capture date and largetest decrease\r\n",
    "greatest_increase_date = bd_asc_df.iloc[0,0]\r\n",
    "greatest_increase_amount = bd_asc_df.iloc[0,2]\r\n",
    "print(greatest_increase_date)\r\n",
    "print(greatest_increase_amount)\r\n",
    "print(\"Greatest Increase in Profits: \" + greatest_increase_date + \" \" + \"($\" + str(greatest_increase_amount) + \")\")\r\n",
    "\r\n"
   ],
   "outputs": [
    {
     "output_type": "stream",
     "name": "stdout",
     "text": [
      "Feb-2012\n",
      "1926159\n",
      "Greatest Increase in Profits: Feb-2012 ($1926159)\n"
     ]
    }
   ],
   "metadata": {}
  },
  {
   "cell_type": "code",
   "execution_count": 257,
   "source": [
    "# Create Financial Analysis Summary\r\n",
    "FA = (\"Financial Analysis\")\r\n",
    "dash = (\"--------------------------------\")\r\n",
    "TM = (\"Total Months: \" + str(month_count))\r\n",
    "T = (\"Total: $\" + str(total_pl))\r\n",
    "AC = (\"Average Change: $\" + str(plchg_mean))\r\n",
    "GI = (\"Greatest Increase in Profits: \" + greatest_increase_date + \" \" + \"($\" + str(greatest_increase_amount) + \")\")\r\n",
    "GD = (\"Greatest Decrease in Profits: \" + greatest_decrease_date + \" \" + \"($\" + str(greatest_decrease_amount) + \")\")\r\n",
    "\r\n",
    "fa_df = pd.DataFrame({\r\n",
    "    \"Financial Analysis\": [dash, TM, T, AC, GI, GD],\r\n",
    "    })\r\n",
    "\r\n",
    "fa_df\r\n",
    "\r\n",
    "print(fa_df)\r\n",
    "\r\n"
   ],
   "outputs": [
    {
     "output_type": "stream",
     "name": "stdout",
     "text": [
      "                                  Financial Analysis\n",
      "0                   --------------------------------\n",
      "1                                   Total Months: 86\n",
      "2                                   Total: $38382578\n",
      "3                          Average Change: $-2315.12\n",
      "4  Greatest Increase in Profits: Feb-2012 ($1926159)\n",
      "5  Greatest Decrease in Profits: Sep-2013 ($-2196...\n"
     ]
    }
   ],
   "metadata": {}
  },
  {
   "cell_type": "code",
   "execution_count": 258,
   "source": [
    "fa_df = pd.DataFrame({\r\n",
    "    \"Financial Analysis\": [dash, TM, T, AC, GI, GD],\r\n",
    "    })\r\n",
    "\r\n",
    "fa_df\r\n",
    "\r\n",
    "\r\n",
    "fa_df.to_csv(\"Analysis/Financial_analysis.txt\", index=False, header=True)"
   ],
   "outputs": [],
   "metadata": {}
  }
 ],
 "metadata": {
  "orig_nbformat": 4,
  "language_info": {
   "name": "python",
   "version": "3.8.8",
   "mimetype": "text/x-python",
   "codemirror_mode": {
    "name": "ipython",
    "version": 3
   },
   "pygments_lexer": "ipython3",
   "nbconvert_exporter": "python",
   "file_extension": ".py"
  },
  "kernelspec": {
   "name": "python3",
   "display_name": "Python 3.8.8 64-bit ('base': conda)"
  },
  "interpreter": {
   "hash": "bce03e0203ca6d29490e03d392228e90828a57ede4d3c15fe8f3c680f7829612"
  }
 },
 "nbformat": 4,
 "nbformat_minor": 2
}